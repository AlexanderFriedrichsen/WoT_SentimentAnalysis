{
 "cells": [
  {
   "cell_type": "markdown",
   "metadata": {
    "id": "sgxEfSj4dYJU"
   },
   "source": [
    "Using the main text you chose at the start of the seasomester, plot happiness time series in the following ways using the labMT lexicon\n",
    "\n",
    "\n",
    "(a) Process (destroy) your text so that it is a simple text file with one 1-gram\n",
    "per line—a vector of 1-grams.\n",
    "To the extent possible, keep punctuation in as separate 1-grams. Periods,\n",
    "commas, semicolons, em dashes, ellipses, ldots."
   ]
  },
  {
   "cell_type": "markdown",
   "metadata": {
    "id": "x0Y8qmYEdYNx"
   },
   "source": []
  },
  {
   "cell_type": "code",
   "execution_count": 1,
   "metadata": {
    "colab": {
     "base_uri": "https://localhost:8080/"
    },
    "id": "lr_5L2qafuE3",
    "outputId": "fc076f7b-cdc9-4de0-b2f1-4feccee977c4"
   },
   "outputs": [
    {
     "name": "stderr",
     "output_type": "stream",
     "text": [
      "[nltk_data] Downloading package punkt to\n",
      "[nltk_data]     C:\\Users\\alexp\\AppData\\Roaming\\nltk_data...\n",
      "[nltk_data]   Package punkt is already up-to-date!\n"
     ]
    },
    {
     "data": {
      "text/plain": [
       "True"
      ]
     },
     "execution_count": 1,
     "metadata": {},
     "output_type": "execute_result"
    }
   ],
   "source": [
    "# !pip install matplotlib\n",
    "# !pip install numpy\n",
    "# !pip install shifterator\n",
    "# !pip install nltk\n",
    "\n",
    "\n",
    "import matplotlib as mpl\n",
    "import numpy as np\n",
    "import shifterator\n",
    "import nltk\n",
    "nltk.download('punkt')\n"
   ]
  },
  {
   "cell_type": "code",
   "execution_count": 90,
   "metadata": {
    "colab": {
     "base_uri": "https://localhost:8080/"
    },
    "id": "9O_cfVMS0ZRl",
    "outputId": "3ad2298d-a0c4-4a35-db6a-2a3ef98ae6ed"
   },
   "outputs": [
    {
     "name": "stdout",
     "output_type": "stream",
     "text": [
      "\n"
     ]
    }
   ],
   "source": []
  },
  {
   "cell_type": "code",
   "execution_count": 2,
   "metadata": {
    "id": "oHjFXJM5gL4x"
   },
   "outputs": [],
   "source": [
    "#take all the .txt files for WoT and compile them into one\n",
    "import os\n",
    "rootdir = \"C:/Users/alexp/Documents/GitHub/WoT_SentimentAnalysis/txt\"\n",
    "\n",
    "lines = []\n",
    "for subdir, dirs, files in os.walk(rootdir):\n",
    "    for file in files:\n",
    "        #print(file)\n",
    "        with open(os.path.join(subdir, file), encoding=\"utf8\") as f:\n",
    "            lines.append(f.readlines())"
   ]
  },
  {
   "cell_type": "code",
   "execution_count": 37,
   "metadata": {
    "colab": {
     "base_uri": "https://localhost:8080/"
    },
    "id": "bCwwgQp8gL7t",
    "outputId": "756a8f8d-9303-4f47-bb89-b9a8c9d20a6a"
   },
   "outputs": [
    {
     "name": "stdout",
     "output_type": "stream",
     "text": [
      "ke the thick-scattered dust of diamonds slowly dimming. The fat sickle of the moon hung low, giving barely light to make out the silhouettes of the men guarding the fireless camp in the sprawling copse of oak and leatherleaf. Fires would have given them away to the Aiel. He had fought the Aiel long before this war began, on the Shienaran marches, a matter of duty to friends. Aielmen were bad enough in daylight. Facing them in the night was as close to staking your life on the toss of a coin as made no difference. Of course, sometimes they found you without fires. Resting a gauntleted hand on his sword in its scabbard, he pulled his cloak back around himself and continued his round of the sentries through calf-deep snow. It was an ancient sword, made with the One Power before the Breaking of the World, during the War of the Shadow, when the Dark One had touched the world for a time. Only legends remained of that Age, except perhaps for what the Aes Sedai might know, yet the blade was hard fact. It could not be broken and never needed sharpening. The hilt had been replaced countless times over the long centuries, but not even tarnish could touch the blade. Once, it had been the sword of Malkieri kings. The next sentry he came to, a short stocky fellow in a long dark cloak, was leaning back against the trunk of a heavy-limbed oak, his head slumped on his chest. Lan touched the sentry’s shoulder, and the man jerked upright, almost dropping the horn-and-sinew horsebow gripped in his gloved hands. The hood of his cloak slid back, revealing his conical steel helmet for an instant before he hastily pulled the cowl up again. In the pale moonlight, Lan could not make out the man’s face behind the vertical bars of his faceguard, but he knew him. Lan’s own helmet was open, in the style of dead Malkier, supporting a steel crescent moon above his forehead. “I wasn’t sleeping, my Lord,” the fellow said quickly. “Just resting a moment.” A copper-skinned Domani, he sounded embarrassed, and rightly so. This was not his first battle, or even his first war. “An Aiel would have wakened you by slitting your throat or putting a spear through your heart, Basram,” Lan said in a quiet voice. Men listened closer to calm tones than to the loudest shouts, so long as firmness and certainty accompanied the calm. “Maybe it would be better without the temptation of the tree so near.” He refrained from adding that even if the Aiel did not kill him, the man risked frostbite standing in one place too long. Basram knew that. Winters were nearly as cold in Arad Doman as in the Borderlands. Mumbling an apology, the Domani respectfully touched his helmet and moved three paces out from the tree. He held himself erect, now, and peered into the darkness. He shifted his feet, too, guarding against blackened toes. Rumor said Aes Sedai were offering Healing, closer to the river, injuries and sickness gone as if they had never been, but without that, amputation was the usual way to stop a man losing his feet to black-rot, and maybe his legs as well. In any case, it was best to avoid becoming involved with Aes Sedai more than absolutely necessary. Years later you could find one of them had tied strings to you just in case she might have need. Aes Sedai thought far ahead, and seldom seemed to care who they used in their schemes or how. That was one reason Lan avoided them. How long would Basram’s renewed alertness last? Lan wished he had the answer, but there was no point in taking the Domani to task further. All of the men he commanded were bone-weary. Likely every man in the army of the grandly named Great Coalition—sometimes it was called the Grand Coalition, or the Grand Alliance, or half a dozen other things, some worse than uncomplimentary—likely every last man was near exhaustion. A battle was hot work, snow or no snow, and tiring. Muscles could knot from tension even when they had the chance to stop for a time, and the last few days had offered small chance to stop very long. The camp held well over three hundred men, a full quarter of them on guard at any given time—against Aiel, Lan wanted as many eyes as he could manage—and before he had gone another two hundred paces, he had had to wake three more, one asleep on his feet without any support at all. Jaim’s head was up, and his eyes open. That was a trick some soldiers learned, especially old soldiers like Jaim. Cutting off the gray-bearded man’s protests that he could not have been asleep, not standing up straight, Lan promised to let Jaim’s friends know if he found him sleeping again. Jaim’s mouth hung open for a moment; then he swallowed hard. “Won’t happen again, my Lord. The Light sear my soul if it does!” He sounded sincere to his bones. Some men would have been afraid that their friends would drub them senseless for putting the rest in danger, but given the company Jaim kept, more likely he dreaded the humiliation of having been caught. As Lan walked on, he found himself chuckling. He seldom laughed, and it was a fool thing to laugh over, but laughter was better than worrying over what he could not change, such as weary men drowsing on guard. As well worry about death. What could not be changed must be endured. Abruptly, he stopped and raised his voice. “Bukama, why are you sneaking about? You’ve been following me since I woke.” A startled grunt came from behind him. Doubtless Bukama had thought he was being silent, and in truth, very few men would have heard the faint crunching of his boots in the snow, yet he should have known Lan would. After all, he had been one of Lan’s teachers, and one of the first lessons had been to be aware of his surroundings at all times, even in his sleep. Not an easy lesson for a boy to learn, but only the dead could afford oblivion. The oblivious soon became the dead, in the Blight beyond the Borderlands. “I’ve been watching your back,” Bukama announced gruffly, striding up to join him. “One of these black-veiled Aiel Darkfriends could sneak in and cut your throat for all the care you’re taking. Have you forgotten everything I taught you?” Bluff and broad, Bukama was almost as tall as he, taller than most men, and wearing a Malkieri helmet without a crest, though he had the right to one. He had more concern for his duties than his rights, which was proper, but Lan wished he would not spurn his rights so completely. When the nation of Malkier died, twenty men had been given the task of carrying the infant Lan Mandragoran to safety. Only five had survived that journey, to raise Lan from the cradle and train him, and Bukama was the last left alive. His hair was solid gray now, worn cut at the shoulder as tradition required, but his back was straight, his arms hard, his blue eyes clear and keen. Tradition infused Bukama. A thin braided leather cord held his hair back, resting in the permanent groove across his forehead it had made over the years. Few men still wore the hadori. Lan did. He would die wearing it, and go into the ground wearing that and nothing else. If there was anyone to bury him where he died. He glanced north, toward his distant home. Most people would have thought it a strange place to call home, but he had felt the pull of it ever since he came south. “I remembered enough to hear you,” he replied. There was too little light to make out Bukama’s weathered face, yet he knew it wore a glower. He could not recall seeing any other expression from his friend and teacher even when he spoke praise. Bukama was steel clothed in flesh. Steel his will, duty his soul. “Do you still believe the Aiel are pledged to the Dark One?” The other man made a sign to ward off evil, as if Lan had spoken the Dark One’s true name. Shai’tan. They had both seen the misfortune that followed speaking that name aloud, and Bukama was one of those who believed that merely thinking it drew the Dark One’s attention. The Dark One and all the Forsaken are bound in Shayol Ghul, Lan recited the catechism in his head, bound by the Creator at the moment of creation. May we shelter safe beneath the Light, in the Creator’s hand. He did not believe thinking that name was enough, but better safe than sorry when it came to the Shadow. “If they aren’t, then why are we here?” Bukama said sourly. And surprisingly. He liked to grumble, but always about inconsequential things or prospects for the future. Never the present. “I gave my word to stay until the end,” Lan replied mildly. Bukama scrubbed at his nose. His grunt might have been abashed this time. It was hard to be sure. Another of his lessons had been that a man’s word must be as good as an oath sworn beneath the Light or it was no good at all. The Aiel had indeed seemed like a horde of Darkfriends when they suddenly spilled across the immense mountain range called the Spine of the World. They had burned the great city of Cairhien, ravaged the nation of Cairhien, and, in the two years since, had fought through Tear and then Andor before reaching these killi\n"
     ]
    }
   ],
   "source": [
    "import re\n",
    "\n",
    "#ft = fulltext\n",
    "ft=\"\"\n",
    "for line in lines:\n",
    "    \n",
    "    ft += str(line)\n",
    "\n",
    "without_line_breaks = ft.replace(\"\\\\n', '\\\\n', '\", \" \")\n",
    "\n",
    "\n",
    "print(without_line_breaks[1000:10000])"
   ]
  },
  {
   "cell_type": "code",
   "execution_count": null,
   "metadata": {},
   "outputs": [],
   "source": [
    "#how fast is this?\n",
    "ft_tokenized = nltk.word_tokenize(without_line_breaks)\n"
   ]
  },
  {
   "cell_type": "code",
   "execution_count": 13,
   "metadata": {},
   "outputs": [
    {
     "data": {
      "text/plain": [
       "Counter({'[': 54,\n",
       "         \"'\": 417523,\n",
       "         'F': 15265,\n",
       "         'o': 1397688,\n",
       "         'r': 1074700,\n",
       "         ' ': 4548419,\n",
       "         'H': 43513,\n",
       "         'a': 1560195,\n",
       "         'i': 1120077,\n",
       "         'e': 2454623,\n",
       "         't': 1575202,\n",
       "         '\\\\': 212221,\n",
       "         'n': 1524444,\n",
       "         ',': 507759,\n",
       "         'N': 22646,\n",
       "         'w': 472093,\n",
       "         'd': 937617,\n",
       "         'f': 363104,\n",
       "         'v': 161845,\n",
       "         'C': 17658,\n",
       "         's': 1106325,\n",
       "         '1': 958,\n",
       "         'T': 90842,\n",
       "         'h': 1253994,\n",
       "         'k': 183160,\n",
       "         '2': 605,\n",
       "         'A': 64641,\n",
       "         'W': 34592,\n",
       "         'u': 502198,\n",
       "         'l': 807230,\n",
       "         '3': 480,\n",
       "         'P': 18699,\n",
       "         'c': 363069,\n",
       "         '4': 415,\n",
       "         'L': 24775,\n",
       "         'g': 421644,\n",
       "         '5': 306,\n",
       "         'm': 420503,\n",
       "         '6': 203,\n",
       "         'S': 65828,\n",
       "         'p': 250993,\n",
       "         '7': 259,\n",
       "         'I': 69639,\n",
       "         '8': 197,\n",
       "         'y': 350189,\n",
       "         '9': 341,\n",
       "         'B': 26803,\n",
       "         '0': 1389,\n",
       "         'J': 4051,\n",
       "         'D': 19207,\n",
       "         'E': 30301,\n",
       "         'M': 37850,\n",
       "         'K': 3844,\n",
       "         'U': 2221,\n",
       "         'b': 264179,\n",
       "         'O': 16037,\n",
       "         'G': 13453,\n",
       "         '-': 18785,\n",
       "         '.': 339698,\n",
       "         'x': 17032,\n",
       "         'j': 15309,\n",
       "         'R': 25308,\n",
       "         '’': 70045,\n",
       "         '“': 71662,\n",
       "         '”': 71525,\n",
       "         'q': 11935,\n",
       "         'Y': 13994,\n",
       "         '?': 26597,\n",
       "         '—': 14675,\n",
       "         'z': 10887,\n",
       "         ';': 11085,\n",
       "         '!': 11175,\n",
       "         'V': 4964,\n",
       "         ':': 1793,\n",
       "         'Q': 1403,\n",
       "         '…': 1419,\n",
       "         '‘': 626,\n",
       "         'Z': 476,\n",
       "         '©': 12,\n",
       "         '™': 10,\n",
       "         '®': 43,\n",
       "         '/': 34,\n",
       "         '\"': 17830,\n",
       "         ']': 55,\n",
       "         '(': 1155,\n",
       "         ')': 1156,\n",
       "         '–': 44,\n",
       "         '*': 8,\n",
       "         '=': 121,\n",
       "         'ç': 6,\n",
       "         'X': 12,\n",
       "         '─': 11,\n",
       "         'ù': 616,\n",
       "         '¦': 7,\n",
       "         '^': 8,\n",
       "         '&': 3,\n",
       "         '+': 2,\n",
       "         '½': 1,\n",
       "         '<': 1,\n",
       "         '~': 1,\n",
       "         'é': 3,\n",
       "         'ï': 2,\n",
       "         '×': 18,\n",
       "         '}': 1,\n",
       "         '_': 4})"
      ]
     },
     "execution_count": 13,
     "metadata": {},
     "output_type": "execute_result"
    }
   ],
   "source": [
    "#Okay here need to put into a frequency dict of word:freq\n",
    "#!pip install collections\n",
    "\n",
    "import collections\n",
    "\n",
    "freq_counts = collections.Counter(ft)\n",
    "\n",
    "freq_counts"
   ]
  },
  {
   "cell_type": "code",
   "execution_count": null,
   "metadata": {},
   "outputs": [],
   "source": [
    "def get_happiness_map(one_grams: list):\n",
    "    \"\"\"Build happiness dictionary for easy lookup.\n",
    "    Args:\n",
    "        one_grams (list): list of one grams for text\n",
    "    \"\"\"\n",
    "    # from  https://hedonometer.org/words/labMT-en-v1/\n",
    "    happiness_df = pd.read_csv('Hedonometer.csv')\n",
    "    unique = set(one_grams)\n",
    "    print(f'Generating happiness map for {len(unique)} words...')\n",
    "    scores = {}\n",
    "    not_found = []\n",
    "    for word in unique:\n",
    "        try:\n",
    "            score = happiness_df[happiness_df['Word'] == word]['Happiness Score']\n",
    "            scores[word] = float(score)\n",
    "        except:\n",
    "            not_found.append(word)\n",
    "            continue\n",
    "    print(f'Generated!')\n",
    "    return scores, not_found"
   ]
  },
  {
   "cell_type": "code",
   "execution_count": null,
   "metadata": {
    "id": "vQnO922ddZia"
   },
   "outputs": [],
   "source": [
    "def get_happiness(window: list, happiness_map: dict, not_found: list) -> float:\n",
    "    \"\"\"Get the happiness score for a window (list of words).\n",
    "    Args:\n",
    "        window (list): list of words assumed to be in order of appearance\n",
    "        happiness_map (dict): how we score each word, direct mapping\n",
    "        not_found (list): list of words not found in our map\n",
    "    Returns:\n",
    "        float: happines score for window\n",
    "    \"\"\"\n",
    "    # make sure all words being checked are in our map\n",
    "    clean_window = [word for word in window if word not in not_found]\n",
    "    if len(clean_window) == 0:\n",
    "        word_scores = 0.0\n",
    "    else:\n",
    "        word_scores = np.nanmean(np.array([happiness_map[word] for word in clean_window]))\n",
    "    return word_scores"
   ]
  },
  {
   "cell_type": "code",
   "execution_count": null,
   "metadata": {
    "id": "ltYTDKFJdZlo"
   },
   "outputs": [],
   "source": [
    "def get_average_happiness(one_grams: list, happiness_map: dict, not_found: list):\n",
    "    happiness_vals = []\n",
    "    print('Calculating Average Happiness...')\n",
    "    for gram in one_grams:\n",
    "        if gram not in not_found:\n",
    "            score = happiness_map[gram]\n",
    "            happiness_vals.append(score)\n",
    "    print('Done!')\n",
    "    return np.nanmean(happiness_vals)"
   ]
  },
  {
   "cell_type": "code",
   "execution_count": null,
   "metadata": {},
   "outputs": [],
   "source": [
    "def filter_one_grams(one_grams: list, tolerance: float, happiness_map: dict, not_found: list, average_happiness: float):\n",
    "    filtered = []\n",
    "    lower_bound = average_happiness - tolerance\n",
    "    upper_bound = average_happiness + tolerance\n",
    "    for gram in one_grams:\n",
    "        if gram in not_found:\n",
    "            continue\n",
    "        if lower_bound < happiness_map[gram] < upper_bound:\n",
    "            continue\n",
    "        else:\n",
    "            filtered.append(gram)\n",
    "    return filtered"
   ]
  },
  {
   "cell_type": "code",
   "execution_count": null,
   "metadata": {},
   "outputs": [],
   "source": [
    "def _happiness_worker(window_bounds: tuple, size: int):\n",
    "        \"\"\"Anonymous function to calculate score for a window.\"\"\"\n",
    "        start = window_bounds[0]\n",
    "        stop = window_bounds[1]\n",
    "        window_grams = one_grams[start:stop]\n",
    "        return get_happiness(window_grams, happiness_map, not_found)"
   ]
  },
  {
   "cell_type": "code",
   "execution_count": null,
   "metadata": {},
   "outputs": [],
   "source": [
    "sizes = [1, 1.5, 2, 2.5, 3, 3.5, 4]\n",
    "blocked = [0.5, 1, 1.5, 2, 2.5, 3, 3.5]\n",
    "window_sizes = [int(10**val) for val in sizes]\n",
    "happiness_map, not_found = get_happiness_map(one_grams)\n",
    "average_happiness = get_average_happiness(one_grams, happiness_map, not_found)\n",
    "to_plot = pd.read_csv('b_data.csv')\n",
    "for i, size in enumerate(window_sizes):\n",
    "    if size in to_plot.columns:\n",
    "        continue\n",
    "    group = np.zeros(len(one_grams),)  # initialize so function below can access it\n",
    "    args = [((j, j + size), size) for j in range(len(one_grams))]\n",
    "    for j, arg in enumerate(args):\n",
    "        print(f'{j}/{len(args)} for step size {size}')\n",
    "        group[j] = _happiness_worker(*arg)\n",
    "    to_plot[size] = group\n",
    "    to_plot.to_csv('b_data.csv')\n",
    "to_plot = pd.read_csv('c_data.csv')\n",
    "for i, size in enumerate(window_sizes):\n",
    "    if size in to_plot.columns:\n",
    "        continue\n",
    "    tolerance = blocked[i]\n",
    "    filtered_grams = filter_one_grams(one_grams, tolerance, happiness_map, not_found, average_happiness)\n",
    "    group = np.zeros(len(filtered_grams),)  # initialize so function below can access it\n",
    "    args = [((j, j + size), size) for j in range(len(filtered_grams))]\n",
    "    for j, arg in enumerate(args):\n",
    "        print(f'{j}/{len(args)} for step size {size}')\n",
    "        group[j] = _happiness_worker(*arg)\n",
    "    to_plot[size] = group\n",
    "    to_plot.to_csv('c_data.csv')"
   ]
  },
  {
   "cell_type": "code",
   "execution_count": null,
   "metadata": {},
   "outputs": [],
   "source": []
  },
  {
   "cell_type": "code",
   "execution_count": null,
   "metadata": {},
   "outputs": [],
   "source": []
  },
  {
   "cell_type": "markdown",
   "metadata": {
    "id": "Nc_6mdkjfMpQ"
   },
   "source": [
    "Citations:\n",
    "\n",
    "Dodds, Peter Sheridan, Kameron Decker Harris, Isabel M. Kloumann, Catherine A. Bliss, and Christopher M. Danforth. “Temporal patterns of happiness and information in a global social network: Hedonometrics and Twitter.” PLoS ONE 6, no. 12 (2011)."
   ]
  }
 ],
 "metadata": {
  "colab": {
   "name": "WoT_Sentiment.ipynb",
   "provenance": []
  },
  "kernelspec": {
   "display_name": "Python 3 (ipykernel)",
   "language": "python",
   "name": "python3"
  },
  "language_info": {
   "codemirror_mode": {
    "name": "ipython",
    "version": 3
   },
   "file_extension": ".py",
   "mimetype": "text/x-python",
   "name": "python",
   "nbconvert_exporter": "python",
   "pygments_lexer": "ipython3",
   "version": "3.10.2"
  }
 },
 "nbformat": 4,
 "nbformat_minor": 1
}
